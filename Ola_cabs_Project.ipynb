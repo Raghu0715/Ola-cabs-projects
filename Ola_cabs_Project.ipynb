{
  "cells": [
    {
      "cell_type": "markdown",
      "metadata": {
        "id": "view-in-github",
        "colab_type": "text"
      },
      "source": [
        "<a href=\"https://colab.research.google.com/github/Raghu0715/Ola-cabs-projects/blob/main/Ola_cabs_Project.ipynb\" target=\"_parent\"><img src=\"https://colab.research.google.com/assets/colab-badge.svg\" alt=\"Open In Colab\"/></a>"
      ]
    },
    {
      "cell_type": "markdown",
      "metadata": {
        "id": "DrXrZTWC6-OX"
      },
      "source": [
        "# ** 1. Data Cleaning and Preparation**"
      ]
    },
    {
      "cell_type": "code",
      "execution_count": 13,
      "metadata": {
        "colab": {
          "base_uri": "https://localhost:8080/"
        },
        "id": "x-lCD3BdAJ-5",
        "outputId": "f91a84d8-b5c6-4595-9a14-7ea36d244824"
      },
      "outputs": [
        {
          "output_type": "stream",
          "name": "stdout",
          "text": [
            "              tweet_id                                            content  \\\n",
            "0  1871889326575136768  Yet again fucking driver accepted the booking ...   \n",
            "1  1871076431754579968  More than 1 hour and the food is still not her...   \n",
            "2  1871827021585928704  No one is constantly as motherfucking assholes...   \n",
            "3  1580646160326615040  Freelance content writers needed. Fully remote...   \n",
            "4  1863291107477721600  , Are you guys even concerned about what type ...   \n",
            "\n",
            "             datetime  likes  shares  views   source  isBlue  followers  \\\n",
            "0 2024-12-25 12:02:48      0       0   23.0  TWITTER   False         93   \n",
            "1 2024-12-23 06:12:38      2       1  107.0  TWITTER   False         72   \n",
            "2 2024-12-25 07:55:13      0       0   15.0  TWITTER   False         93   \n",
            "3 2022-10-13 19:46:26    396     208    NaN  TWITTER   False     101828   \n",
            "4 2024-01-12 18:36:32      0       0   32.0  TWITTER   False         47   \n",
            "\n",
            "     hashtags location                                      user_mentions  \\\n",
            "0        None                 [{'name': 'Ola', 'screen_name': 'Olacabs'}]   \n",
            "1  [olafoods]           [{'name': 'Ola', 'screen_name': 'Olacabs'}, {'...   \n",
            "2        None                 [{'name': 'Ola', 'screen_name': 'Olacabs'}]   \n",
            "3        None                                                          []   \n",
            "4        None           [{'name': 'Ola', 'screen_name': 'ola_zkzkvm'},...   \n",
            "\n",
            "                                               media         username  \\\n",
            "0  [https://pbs.twimg.com/media/GfpJadUXkAAqoVS.jpg]        desire24_   \n",
            "1  [https://pbs.twimg.com/media/GfdmGSrWUAA5ZTP.jpg]   Karan0072Karan   \n",
            "2  [https://pbs.twimg.com/media/GfoQv5zXIAAcjA_.jpg]        desire24_   \n",
            "3  [https://pbs.twimg.com/media/Fe-VSXbWIAAaMIe.j...  OlamideTowobola   \n",
            "4  [https://pbs.twimg.com/media/Gdu9YbvXkAApPHn.jpg]          DWasish   \n",
            "\n",
            "                                                 url  \\\n",
            "0  https://x.com/desire24_/status/187188932657513...   \n",
            "1  https://x.com/Karan0072Karan/status/1871076431...   \n",
            "2  https://x.com/desire24_/status/187182702158592...   \n",
            "3  https://x.com/OlamideTowobola/status/158064616...   \n",
            "4   https://x.com/DWasish/status/1863291107477721485   \n",
            "\n",
            "                                            comments  \n",
            "0                                                 []  \n",
            "1  [{'content': 'Customer care services are alway...  \n",
            "2                                                 []  \n",
            "3  [{'content': 'FYI', 'likes': 0, 'shares': 0, '...  \n",
            "4  [{'content': 'This type of people going forwar...  \n"
          ]
        }
      ],
      "source": [
        "#Step 1: Load the JSON File\n",
        "\n",
        "import pandas as pd\n",
        "\n",
        "# Load the JSON file into a Pandas DataFrame\n",
        "df = pd.read_json('/content/Ola.json')\n",
        "print(df.head())\n"
      ]
    },
    {
      "cell_type": "code",
      "execution_count": 14,
      "metadata": {
        "colab": {
          "base_uri": "https://localhost:8080/"
        },
        "id": "CljBwyAuB2Lu",
        "outputId": "f8452339-3632-4a84-ecfd-30da8e2f6df3"
      },
      "outputs": [
        {
          "output_type": "stream",
          "name": "stdout",
          "text": [
            "(3244, 16)\n",
            "<class 'pandas.core.frame.DataFrame'>\n",
            "RangeIndex: 3244 entries, 0 to 3243\n",
            "Data columns (total 16 columns):\n",
            " #   Column         Non-Null Count  Dtype         \n",
            "---  ------         --------------  -----         \n",
            " 0   tweet_id       3244 non-null   int64         \n",
            " 1   content        3244 non-null   object        \n",
            " 2   datetime       3244 non-null   datetime64[ns]\n",
            " 3   likes          3244 non-null   int64         \n",
            " 4   shares         3244 non-null   int64         \n",
            " 5   views          2442 non-null   float64       \n",
            " 6   source         3244 non-null   object        \n",
            " 7   isBlue         3244 non-null   bool          \n",
            " 8   followers      3244 non-null   int64         \n",
            " 9   hashtags       1097 non-null   object        \n",
            " 10  location       3244 non-null   object        \n",
            " 11  user_mentions  3244 non-null   object        \n",
            " 12  media          3244 non-null   object        \n",
            " 13  username       3244 non-null   object        \n",
            " 14  url            3244 non-null   object        \n",
            " 15  comments       3244 non-null   object        \n",
            "dtypes: bool(1), datetime64[ns](1), float64(1), int64(4), object(9)\n",
            "memory usage: 383.5+ KB\n",
            "None\n",
            "tweet_id            0\n",
            "content             0\n",
            "datetime            0\n",
            "likes               0\n",
            "shares              0\n",
            "views             802\n",
            "source              0\n",
            "isBlue              0\n",
            "followers           0\n",
            "hashtags         2147\n",
            "location            0\n",
            "user_mentions       0\n",
            "media               0\n",
            "username            0\n",
            "url                 0\n",
            "comments            0\n",
            "dtype: int64\n",
            "              tweet_id                                            content  \\\n",
            "0  1871889326575136768  Yet again fucking driver accepted the booking ...   \n",
            "1  1871076431754579968  More than 1 hour and the food is still not her...   \n",
            "2  1871827021585928704  No one is constantly as motherfucking assholes...   \n",
            "3  1580646160326615040  Freelance content writers needed. Fully remote...   \n",
            "4  1863291107477721600  , Are you guys even concerned about what type ...   \n",
            "\n",
            "             datetime  likes  shares  views   source  isBlue  followers  \\\n",
            "0 2024-12-25 12:02:48      0       0   23.0  TWITTER   False         93   \n",
            "1 2024-12-23 06:12:38      2       1  107.0  TWITTER   False         72   \n",
            "2 2024-12-25 07:55:13      0       0   15.0  TWITTER   False         93   \n",
            "3 2022-10-13 19:46:26    396     208    NaN  TWITTER   False     101828   \n",
            "4 2024-01-12 18:36:32      0       0   32.0  TWITTER   False         47   \n",
            "\n",
            "     hashtags location                                      user_mentions  \\\n",
            "0        None                 [{'name': 'Ola', 'screen_name': 'Olacabs'}]   \n",
            "1  [olafoods]           [{'name': 'Ola', 'screen_name': 'Olacabs'}, {'...   \n",
            "2        None                 [{'name': 'Ola', 'screen_name': 'Olacabs'}]   \n",
            "3        None                                                          []   \n",
            "4        None           [{'name': 'Ola', 'screen_name': 'ola_zkzkvm'},...   \n",
            "\n",
            "                                               media         username  \\\n",
            "0  [https://pbs.twimg.com/media/GfpJadUXkAAqoVS.jpg]        desire24_   \n",
            "1  [https://pbs.twimg.com/media/GfdmGSrWUAA5ZTP.jpg]   Karan0072Karan   \n",
            "2  [https://pbs.twimg.com/media/GfoQv5zXIAAcjA_.jpg]        desire24_   \n",
            "3  [https://pbs.twimg.com/media/Fe-VSXbWIAAaMIe.j...  OlamideTowobola   \n",
            "4  [https://pbs.twimg.com/media/Gdu9YbvXkAApPHn.jpg]          DWasish   \n",
            "\n",
            "                                                 url  \\\n",
            "0  https://x.com/desire24_/status/187188932657513...   \n",
            "1  https://x.com/Karan0072Karan/status/1871076431...   \n",
            "2  https://x.com/desire24_/status/187182702158592...   \n",
            "3  https://x.com/OlamideTowobola/status/158064616...   \n",
            "4   https://x.com/DWasish/status/1863291107477721485   \n",
            "\n",
            "                                            comments  \n",
            "0                                                 []  \n",
            "1  [{'content': 'Customer care services are alway...  \n",
            "2                                                 []  \n",
            "3  [{'content': 'FYI', 'likes': 0, 'shares': 0, '...  \n",
            "4  [{'content': 'This type of people going forwar...  \n"
          ]
        }
      ],
      "source": [
        "#Step 2: Inspect the Data\n",
        "\n",
        "# Check the shape of the DataFrame (rows and columns)\n",
        "print(df.shape)\n",
        "\n",
        "# Check the columns and their data types\n",
        "print(df.info())\n",
        "\n",
        "# Check for missing values\n",
        "print(df.isnull().sum())\n",
        "\n",
        "# Check the first few rows of the dataset\n",
        "print(df.head())\n"
      ]
    },
    {
      "cell_type": "code",
      "execution_count": 15,
      "metadata": {
        "id": "rg9SaQX3CSsf"
      },
      "outputs": [],
      "source": [
        "#Convert to CSV\n",
        "# Save the DataFrame to a CSV file\n",
        "#df.to_csv('converted_ola_cabs_data.csv', index=False)\n"
      ]
    },
    {
      "cell_type": "code",
      "execution_count": 16,
      "metadata": {
        "id": "fM-4fwXGCdhk"
      },
      "outputs": [],
      "source": [
        "#Step 3: Clean the Data\n",
        "\n",
        "# Drop rows with missing values\n",
        "df.dropna(inplace=True)\n",
        "\n",
        "# Or, fill missing values with a placeholder (e.g., empty string or median)\n",
        "df.fillna('Unknown', inplace=True)\n",
        "\n",
        "\n"
      ]
    },
    {
      "cell_type": "code",
      "execution_count": 17,
      "metadata": {
        "id": "PQ5inFX0Cv_Q",
        "colab": {
          "base_uri": "https://localhost:8080/"
        },
        "outputId": "2bd084e0-3f53-4242-ddff-a8a64b418894"
      },
      "outputs": [
        {
          "output_type": "stream",
          "name": "stdout",
          "text": [
            "tweet_id                  int64\n",
            "content                  object\n",
            "datetime         datetime64[ns]\n",
            "likes                     int64\n",
            "shares                    int64\n",
            "views                   float64\n",
            "source                   object\n",
            "isBlue                     bool\n",
            "followers                 int64\n",
            "hashtags                 object\n",
            "location                 object\n",
            "user_mentions            object\n",
            "media                    object\n",
            "username                 object\n",
            "url                      object\n",
            "comments                 object\n",
            "dtype: object\n"
          ]
        }
      ],
      "source": [
        "print(df.dtypes)\n",
        "\n",
        "\n",
        "\n"
      ]
    },
    {
      "cell_type": "code",
      "execution_count": 18,
      "metadata": {
        "colab": {
          "base_uri": "https://localhost:8080/"
        },
        "id": "m6oMhlXEDL3h",
        "outputId": "df2364a5-0baf-4f5c-ce65-6edc6087ae25"
      },
      "outputs": [
        {
          "output_type": "stream",
          "name": "stdout",
          "text": [
            "1    2024-12-23 06:12:38\n",
            "7    2024-01-30 09:45:17\n",
            "15   2024-12-24 07:26:35\n",
            "19   2024-12-23 04:43:43\n",
            "34   2023-06-23 15:04:14\n",
            "Name: datetime, dtype: datetime64[ns]\n"
          ]
        }
      ],
      "source": [
        "#Ensure Datetime Format\n",
        "\n",
        "# Convert the 'datetime' column to proper datetime format\n",
        "df['datetime'] = pd.to_datetime(df['datetime'])\n",
        "\n",
        "# Verify the conversion\n",
        "print(df['datetime'].head())\n"
      ]
    },
    {
      "cell_type": "code",
      "execution_count": 19,
      "metadata": {
        "colab": {
          "base_uri": "https://localhost:8080/"
        },
        "id": "TRjvOZRPD3NI",
        "outputId": "005b3fb3-b459-4ed1-ada8-b983e26afd83"
      },
      "outputs": [
        {
          "output_type": "stream",
          "name": "stdout",
          "text": [
            "tweet_id                  int64\n",
            "content                  object\n",
            "datetime         datetime64[ns]\n",
            "likes                     int64\n",
            "shares                    int64\n",
            "views                   float64\n",
            "source                   object\n",
            "isBlue                     bool\n",
            "followers                 int64\n",
            "hashtags                 object\n",
            "location                 object\n",
            "user_mentions            object\n",
            "media                    object\n",
            "username                 object\n",
            "url                      object\n",
            "comments                 object\n",
            "dtype: object\n"
          ]
        }
      ],
      "source": [
        "#Convert Engagement Metrics to Numeric\n",
        "\n",
        "# Convert likes, shares, and views to numeric (if they are not already)\n",
        "df['likes'] = pd.to_numeric(df['likes'], errors='coerce')\n",
        "df['shares'] = pd.to_numeric(df['shares'], errors='coerce')\n",
        "df['views'] = pd.to_numeric(df['views'], errors='coerce')\n",
        "\n",
        "# Check the updated data types\n",
        "print(df.dtypes)\n"
      ]
    },
    {
      "cell_type": "code",
      "execution_count": 20,
      "metadata": {
        "id": "eJ8lR_6oD-zf"
      },
      "outputs": [],
      "source": [
        "#Save Cleaned Data\n",
        "\n",
        "# Save the cleaned dataset to a CSV file\n",
        "df.to_csv('cleaned_ola_cabs_data.csv', index=False)\n"
      ]
    },
    {
      "cell_type": "markdown",
      "metadata": {
        "id": "6H4JgELeEf9c"
      },
      "source": [
        "# 2a. Basic Statistics for Engagement Metrics (Likes, Shares, Views)"
      ]
    },
    {
      "cell_type": "code",
      "execution_count": 21,
      "metadata": {
        "id": "j1oLC8mbEjtD",
        "colab": {
          "base_uri": "https://localhost:8080/"
        },
        "outputId": "ab1aa154-5cbf-41a8-8416-26b4c3fd84db"
      },
      "outputs": [
        {
          "output_type": "stream",
          "name": "stdout",
          "text": [
            "Likes - Mean: 115.10775862068965 Median: 1.0 Mode: 0\n",
            "Shares - Mean: 13.781609195402298 Median: 0.0 Mode: 0\n",
            "Views - Mean: 37296.81896551724 Median: 150.5 Mode: 2.0\n"
          ]
        }
      ],
      "source": [
        "# Calculate basic statistics for likes, shares, and views\n",
        "likes_mean = df['likes'].mean()\n",
        "likes_median = df['likes'].median()\n",
        "likes_mode = df['likes'].mode()[0]\n",
        "\n",
        "shares_mean = df['shares'].mean()\n",
        "shares_median = df['shares'].median()\n",
        "shares_mode = df['shares'].mode()[0]\n",
        "\n",
        "views_mean = df['views'].mean()\n",
        "views_median = df['views'].median()\n",
        "views_mode = df['views'].mode()[0]\n",
        "\n",
        "# Display the results\n",
        "print(\"Likes - Mean:\", likes_mean, \"Median:\", likes_median, \"Mode:\", likes_mode)\n",
        "print(\"Shares - Mean:\", shares_mean, \"Median:\", shares_median, \"Mode:\", shares_mode)\n",
        "print(\"Views - Mean:\", views_mean, \"Median:\", views_median, \"Mode:\", views_mode)\n"
      ]
    },
    {
      "cell_type": "markdown",
      "metadata": {
        "id": "MdGUka4JEo75"
      },
      "source": [
        "# 2b. Top 5 Posts with Highest Engagement"
      ]
    },
    {
      "cell_type": "code",
      "execution_count": 22,
      "metadata": {
        "id": "_X9xZG-UEnHV",
        "colab": {
          "base_uri": "https://localhost:8080/"
        },
        "outputId": "c14fab67-52de-4b23-e627-03ce95479b72"
      },
      "outputs": [
        {
          "output_type": "stream",
          "name": "stdout",
          "text": [
            "1       2\n",
            "7     267\n",
            "15      6\n",
            "19      0\n",
            "34      0\n",
            "Name: likes, dtype: int64\n",
            "1      1\n",
            "7     47\n",
            "15     2\n",
            "19     0\n",
            "34     0\n",
            "Name: shares, dtype: int64\n",
            "1     [{'content': 'Customer care services are alway...\n",
            "7     [{'content': 'shoot your shot', 'likes': 0, 's...\n",
            "15                                                   []\n",
            "19                                                   []\n",
            "34                                                   []\n",
            "Name: comments, dtype: object\n"
          ]
        }
      ],
      "source": [
        "print(df['likes'].head())  # Check a few entries\n",
        "print(df['shares'].head())  # Check a few entries\n",
        "print(df['comments'].head())  # Check a few entries\n"
      ]
    },
    {
      "cell_type": "code",
      "execution_count": 23,
      "metadata": {
        "id": "eI7YI6VpE6rh"
      },
      "outputs": [],
      "source": [
        "# Apply a function to handle lists or empty lists in the 'comments' column\n",
        "df['comments'] = df['comments'].apply(lambda x: x[0] if isinstance(x, list) and len(x) > 0 else x)\n"
      ]
    },
    {
      "cell_type": "code",
      "execution_count": 24,
      "metadata": {
        "id": "pgqiGcH9FJW3"
      },
      "outputs": [],
      "source": [
        "# Convert columns to numeric\n",
        "df['likes'] = pd.to_numeric(df['likes'], errors='coerce')\n",
        "df['shares'] = pd.to_numeric(df['shares'], errors='coerce')\n",
        "df['comments'] = pd.to_numeric(df['comments'], errors='coerce')\n"
      ]
    },
    {
      "cell_type": "code",
      "execution_count": 25,
      "metadata": {
        "id": "xZoH5l7KFQ6h"
      },
      "outputs": [],
      "source": [
        "df['total_engagement'] = df['likes'] + df['shares'] + df['comments']\n"
      ]
    },
    {
      "cell_type": "code",
      "execution_count": 26,
      "metadata": {
        "id": "ABBtbqAsFjvC",
        "colab": {
          "base_uri": "https://localhost:8080/"
        },
        "outputId": "285b4491-9ca0-43f7-c6bd-b072c266031c"
      },
      "outputs": [
        {
          "output_type": "stream",
          "name": "stdout",
          "text": [
            "Index(['tweet_id', 'content', 'datetime', 'likes', 'shares', 'views', 'source',\n",
            "       'isBlue', 'followers', 'hashtags', 'location', 'user_mentions', 'media',\n",
            "       'username', 'url', 'comments', 'total_engagement'],\n",
            "      dtype='object')\n"
          ]
        }
      ],
      "source": [
        "# Print the column names to check if 'post_content' exists\n",
        "print(df.columns)\n"
      ]
    },
    {
      "cell_type": "code",
      "execution_count": 27,
      "metadata": {
        "id": "DhGQNcEeFyWX",
        "colab": {
          "base_uri": "https://localhost:8080/"
        },
        "outputId": "1b1fc13e-e674-407d-f44a-3715f8e623f6"
      },
      "outputs": [
        {
          "output_type": "stream",
          "name": "stdout",
          "text": [
            "                                              content  total_engagement  \\\n",
            "1   More than 1 hour and the food is still not her...               NaN   \n",
            "7   Ambassador Gig #hiring Only interact with this...               NaN   \n",
            "15  We're Hiring at YLAC! Passionate about educati...               NaN   \n",
            "19  OLSERA IS #HIRING We're looking for highly mot...               NaN   \n",
            "34  #Jobs #OLA is HIRING.If you are the one or kno...               NaN   \n",
            "\n",
            "    likes  shares  comments  \n",
            "1       2       1       NaN  \n",
            "7     267      47       NaN  \n",
            "15      6       2       NaN  \n",
            "19      0       0       NaN  \n",
            "34      0       0       NaN  \n"
          ]
        }
      ],
      "source": [
        "# Sort by total engagement in descending order and select the top 5 posts\n",
        "top_5_posts = df.sort_values(by='total_engagement', ascending=False).head(5)\n",
        "\n",
        "# Display the top 5 posts along with engagement metrics\n",
        "print(top_5_posts[['content', 'total_engagement', 'likes', 'shares', 'comments']])\n"
      ]
    },
    {
      "cell_type": "markdown",
      "metadata": {
        "id": "rivQoNzjF-D4"
      },
      "source": [
        "# 2c. Count the Number of Posts with Media Attachments"
      ]
    },
    {
      "cell_type": "code",
      "execution_count": 28,
      "metadata": {
        "id": "LORaXRa3F8wI",
        "colab": {
          "base_uri": "https://localhost:8080/"
        },
        "outputId": "66c7ce9f-868d-4309-f228-89670c05da2c"
      },
      "outputs": [
        {
          "output_type": "stream",
          "name": "stdout",
          "text": [
            "Index(['tweet_id', 'content', 'datetime', 'likes', 'shares', 'views', 'source',\n",
            "       'isBlue', 'followers', 'hashtags', 'location', 'user_mentions', 'media',\n",
            "       'username', 'url', 'comments', 'total_engagement'],\n",
            "      dtype='object')\n",
            "                                              content  total_engagement  \\\n",
            "1   More than 1 hour and the food is still not her...               NaN   \n",
            "7   Ambassador Gig #hiring Only interact with this...               NaN   \n",
            "15  We're Hiring at YLAC! Passionate about educati...               NaN   \n",
            "19  OLSERA IS #HIRING We're looking for highly mot...               NaN   \n",
            "34  #Jobs #OLA is HIRING.If you are the one or kno...               NaN   \n",
            "\n",
            "    likes  shares  comments  \n",
            "1       2       1       NaN  \n",
            "7     267      47       NaN  \n",
            "15      6       2       NaN  \n",
            "19      0       0       NaN  \n",
            "34      0       0       NaN  \n"
          ]
        }
      ],
      "source": [
        "# Check the column names in the DataFrame\n",
        "print(df.columns)\n",
        "\n",
        "# Sort by total engagement in descending order and select the top 5 posts\n",
        "top_5_posts = df.sort_values(by='total_engagement', ascending=False).head(5)\n",
        "\n",
        "# Display the top 5 posts along with engagement metrics\n",
        "print(top_5_posts[['content', 'total_engagement', 'likes', 'shares', 'comments']])\n",
        "\n"
      ]
    },
    {
      "cell_type": "code",
      "execution_count": 29,
      "metadata": {
        "id": "AEhEh2w2HM4D",
        "colab": {
          "base_uri": "https://localhost:8080/"
        },
        "outputId": "7cca8e9f-c3f2-4baf-e1eb-abc2f1e1b323"
      },
      "outputs": [
        {
          "output_type": "stream",
          "name": "stdout",
          "text": [
            "Requirement already satisfied: textblob in /usr/local/lib/python3.11/dist-packages (0.17.1)\n",
            "Requirement already satisfied: nltk>=3.1 in /usr/local/lib/python3.11/dist-packages (from textblob) (3.9.1)\n",
            "Requirement already satisfied: click in /usr/local/lib/python3.11/dist-packages (from nltk>=3.1->textblob) (8.1.8)\n",
            "Requirement already satisfied: joblib in /usr/local/lib/python3.11/dist-packages (from nltk>=3.1->textblob) (1.4.2)\n",
            "Requirement already satisfied: regex>=2021.8.3 in /usr/local/lib/python3.11/dist-packages (from nltk>=3.1->textblob) (2024.11.6)\n",
            "Requirement already satisfied: tqdm in /usr/local/lib/python3.11/dist-packages (from nltk>=3.1->textblob) (4.67.1)\n",
            "Requirement already satisfied: vaderSentiment in /usr/local/lib/python3.11/dist-packages (3.3.2)\n",
            "Requirement already satisfied: requests in /usr/local/lib/python3.11/dist-packages (from vaderSentiment) (2.32.3)\n",
            "Requirement already satisfied: charset-normalizer<4,>=2 in /usr/local/lib/python3.11/dist-packages (from requests->vaderSentiment) (3.4.1)\n",
            "Requirement already satisfied: idna<4,>=2.5 in /usr/local/lib/python3.11/dist-packages (from requests->vaderSentiment) (3.10)\n",
            "Requirement already satisfied: urllib3<3,>=1.21.1 in /usr/local/lib/python3.11/dist-packages (from requests->vaderSentiment) (2.3.0)\n",
            "Requirement already satisfied: certifi>=2017.4.17 in /usr/local/lib/python3.11/dist-packages (from requests->vaderSentiment) (2024.12.14)\n"
          ]
        }
      ],
      "source": [
        "!pip install textblob\n",
        "!pip install vaderSentiment\n"
      ]
    },
    {
      "cell_type": "code",
      "source": [
        "# Check column names in the dataset\n",
        "print(df.columns)\n",
        "\n"
      ],
      "metadata": {
        "id": "3wZ_GFuI881X",
        "colab": {
          "base_uri": "https://localhost:8080/"
        },
        "outputId": "5fb0d3aa-71aa-4160-a09b-4171c3dfee0c"
      },
      "execution_count": 41,
      "outputs": [
        {
          "output_type": "stream",
          "name": "stdout",
          "text": [
            "Index(['tweet_id', 'content', 'datetime', 'likes', 'shares', 'views', 'source',\n",
            "       'isBlue', 'followers', 'hashtags', 'location', 'user_mentions', 'media',\n",
            "       'username', 'url', 'comments', 'total_engagement'],\n",
            "      dtype='object')\n"
          ]
        }
      ]
    },
    {
      "cell_type": "code",
      "source": [
        "from vaderSentiment.vaderSentiment import SentimentIntensityAnalyzer\n",
        "\n",
        "# Initialize the analyzer\n",
        "analyzer = SentimentIntensityAnalyzer()\n"
      ],
      "metadata": {
        "id": "cWuBplSldgTL"
      },
      "execution_count": 42,
      "outputs": []
    },
    {
      "cell_type": "code",
      "source": [
        "# Function to calculate the sentiment score\n",
        "def get_sentiment_score(content):\n",
        "    if isinstance(content, str):  # Ensure the content is a string\n",
        "        sentiment = analyzer.polarity_scores(content)\n",
        "        return sentiment['compound']  # Return the compound score\n",
        "    else:\n",
        "        return 0  # Return 0 for invalid or missing content\n"
      ],
      "metadata": {
        "id": "bbHpdBpodi5v"
      },
      "execution_count": 38,
      "outputs": []
    },
    {
      "cell_type": "code",
      "source": [
        "df.rename(columns={'actual_column_name': 'post_content'}, inplace=True)\n"
      ],
      "metadata": {
        "id": "7BWyG7_YdnTg"
      },
      "execution_count": 43,
      "outputs": []
    },
    {
      "cell_type": "code",
      "source": [
        "#Define the Function: Make sure you have the function get_sentiment_score defined. Below is the implementation using the VADER sentiment analyzer:from vaderSentiment.vaderSentiment import SentimentIntensityAnalyzer\n",
        "\n",
        "# Initialize the VADER sentiment analyze\n",
        "analyzer = SentimentIntensityAnalyzer()\n",
        "\n",
        "# Function to get the sentiment score of each post\n",
        "def get_sentiment_score(content):\n",
        "    if isinstance(content, str):  # Ensure the content is a string\n",
        "        sentiment = analyzer.polarity_scores(content)\n",
        "        return sentiment['compound']  # Compound score represents overall sentiment\n",
        "    else:\n",
        "        return 0  # Default score for missing or invalid content\n"
      ],
      "metadata": {
        "id": "rOxKaTP79zCv"
      },
      "execution_count": 45,
      "outputs": []
    },
    {
      "cell_type": "code",
      "source": [
        "#Apply the Function: Once the function is defined, apply it to the content column of your DataFrame:\n",
        "\n",
        "df['sentiment_score'] = df['content'].apply(get_sentiment_score)\n"
      ],
      "metadata": {
        "id": "luPLiVqo-Ftu"
      },
      "execution_count": 46,
      "outputs": []
    },
    {
      "cell_type": "code",
      "source": [
        "#Verify the Result: Check the sentiment_score column to ensure it has been added to your DataFrame:\n",
        "\n",
        "print(df[['content', 'sentiment_score']].head())\n"
      ],
      "metadata": {
        "id": "ZmakEQDH-I-4",
        "colab": {
          "base_uri": "https://localhost:8080/"
        },
        "outputId": "03dd8f36-eb79-4213-c6b6-d247d80021e2"
      },
      "execution_count": 47,
      "outputs": [
        {
          "output_type": "stream",
          "name": "stdout",
          "text": [
            "                                              content  sentiment_score\n",
            "1   More than 1 hour and the food is still not her...          -0.1010\n",
            "7   Ambassador Gig #hiring Only interact with this...           0.7345\n",
            "15  We're Hiring at YLAC! Passionate about educati...           0.8953\n",
            "19  OLSERA IS #HIRING We're looking for highly mot...           0.8357\n",
            "34  #Jobs #OLA is HIRING.If you are the one or kno...           0.7783\n"
          ]
        }
      ]
    },
    {
      "cell_type": "markdown",
      "metadata": {
        "id": "O8DoQqmtH9UB"
      },
      "source": [
        "\n",
        "\n",
        "# ** 3b. Categorize Posts into Positive, Neutral, or Negative**"
      ]
    },
    {
      "cell_type": "code",
      "execution_count": 48,
      "metadata": {
        "id": "pQjmlqwEIBJW",
        "colab": {
          "base_uri": "https://localhost:8080/"
        },
        "outputId": "edb6f7a6-da6a-49ce-d038-41a979bd8562"
      },
      "outputs": [
        {
          "output_type": "stream",
          "name": "stdout",
          "text": [
            "                                              content  sentiment_score  \\\n",
            "1   More than 1 hour and the food is still not her...          -0.1010   \n",
            "7   Ambassador Gig #hiring Only interact with this...           0.7345   \n",
            "15  We're Hiring at YLAC! Passionate about educati...           0.8953   \n",
            "19  OLSERA IS #HIRING We're looking for highly mot...           0.8357   \n",
            "34  #Jobs #OLA is HIRING.If you are the one or kno...           0.7783   \n",
            "\n",
            "   sentiment_category  \n",
            "1            Negative  \n",
            "7            Positive  \n",
            "15           Positive  \n",
            "19           Positive  \n",
            "34           Positive  \n"
          ]
        }
      ],
      "source": [
        "import numpy as np\n",
        "\n",
        "# Categorize sentiment into Positive, Neutral, or Negative\n",
        "def categorize_sentiment(score):\n",
        "    if score > 0.05:\n",
        "        return 'Positive'\n",
        "    elif score < -0.05:\n",
        "        return 'Negative'\n",
        "    else:\n",
        "        return 'Neutral'\n",
        "\n",
        "# Apply categorization to create a new column\n",
        "df['sentiment_category'] = df['sentiment_score'].apply(categorize_sentiment)\n",
        "\n",
        "# Display the first few rows with content, sentiment score, and category\n",
        "print(df[['content', 'sentiment_score', 'sentiment_category']].head())\n"
      ]
    },
    {
      "cell_type": "markdown",
      "source": [
        "** Visualize Sentiment Distribution:\n",
        "\n",
        "**"
      ],
      "metadata": {
        "id": "92G28zki-44f"
      }
    },
    {
      "cell_type": "code",
      "execution_count": 49,
      "metadata": {
        "id": "EfTl-Y6JIbv7",
        "colab": {
          "base_uri": "https://localhost:8080/",
          "height": 559
        },
        "outputId": "be52e4b3-7efe-49cf-9065-e66e5be8d1d4"
      },
      "outputs": [
        {
          "output_type": "stream",
          "name": "stdout",
          "text": [
            "sentiment_category\n",
            "Positive    48.994253\n",
            "Neutral     29.597701\n",
            "Negative    21.408046\n",
            "Name: count, dtype: float64\n"
          ]
        },
        {
          "output_type": "display_data",
          "data": {
            "text/plain": [
              "<Figure size 640x480 with 1 Axes>"
            ],
            "image/png": "[encoded data removed]"
          },
          "metadata": {}
        }
      ],
      "source": [
        "# Calculate the count of posts in each sentiment category\n",
        "sentiment_counts = df['sentiment_category'].value_counts()\n",
        "\n",
        "# Calculate the percentage of posts in each category\n",
        "sentiment_percentage = sentiment_counts / len(df) * 100\n",
        "\n",
        "# Display the percentage of posts in each category\n",
        "print(sentiment_percentage)\n",
        "\n",
        "# Optional: Visualize the sentiment distribution using a bar chart\n",
        "import matplotlib.pyplot as plt\n",
        "\n",
        "sentiment_percentage.plot(kind='bar', color=['green', 'gray', 'red'])\n",
        "plt.title('Sentiment Distribution of Posts')\n",
        "plt.xlabel('Sentiment Category')\n",
        "plt.ylabel('Percentage of Posts')\n",
        "plt.xticks(rotation=0)\n",
        "plt.show()\n"
      ]
    },
    {
      "cell_type": "markdown",
      "metadata": {
        "id": "2pxJUT_EJUBg"
      },
      "source": [
        "# 4. Customer Complaints\n"
      ]
    },
    {
      "cell_type": "code",
      "execution_count": 50,
      "metadata": {
        "id": "58GkEgEAIe_h",
        "colab": {
          "base_uri": "https://localhost:8080/"
        },
        "outputId": "f40208e2-4424-4270-fb2d-a25167b874dc"
      },
      "outputs": [
        {
          "output_type": "stream",
          "name": "stdout",
          "text": [
            "Index(['tweet_id', 'content', 'datetime', 'likes', 'shares', 'views', 'source',\n",
            "       'isBlue', 'followers', 'hashtags', 'location', 'user_mentions', 'media',\n",
            "       'username', 'url', 'comments', 'total_engagement', 'sentiment_score',\n",
            "       'sentiment_category'],\n",
            "      dtype='object')\n",
            "                                               content  is_complaint\n",
            "38   hiring drivers or hooligans ? Your driver is d...          True\n",
            "57   Hy #OLA this type of driver you're hiring he u...          True\n",
            "213  Aur Karo Mahila Mahila Pehle faulty bikes reca...          True\n",
            "221  \"Cadbury should hire people for their 5-star c...          True\n",
            "226  #OlaElectric #olaservice you think hiring boun...          True\n"
          ]
        }
      ],
      "source": [
        "#Step 1: Extract Posts Mentioning Complaints\n",
        "print(df.columns)\n",
        "\n",
        "# Define the function to identify complaints\n",
        "def is_complaint(content):\n",
        "    # Define a list of keywords related to complaints\n",
        "    complaint_keywords = ['driver', 'cancellation', 'customer service', 'rude', 'late', 'refund', 'issue', 'problem']\n",
        "\n",
        "    # Check if any of the keywords appear in the content (case insensitive)\n",
        "    return any(keyword in content.lower() for keyword in complaint_keywords)\n",
        "\n",
        "# Apply the function to the 'content' column\n",
        "df['is_complaint'] = df['content'].apply(is_complaint)\n",
        "\n",
        "# Filter posts that are identified as complaints\n",
        "complaints_df = df[df['is_complaint'] == True]\n",
        "\n",
        "# Display the first few rows of the complaints DataFrame\n",
        "print(complaints_df[['content', 'is_complaint']].head())\n"
      ]
    },
    {
      "cell_type": "code",
      "execution_count": 51,
      "metadata": {
        "id": "zJ_unO6HJ5c2"
      },
      "outputs": [],
      "source": [
        "# Step 2: Categorize Complaints into Distinct Groups\n",
        "\n",
        "#Update to use the correct column name\n",
        "df['is_complaint'] = df['content'].apply(is_complaint)\n",
        "complaints_df = df[df['is_complaint'] == True]\n"
      ]
    },
    {
      "cell_type": "code",
      "execution_count": 52,
      "metadata": {
        "id": "23xonn4_KSOD",
        "colab": {
          "base_uri": "https://localhost:8080/",
          "height": 638
        },
        "outputId": "750971b6-6eee-41d2-896d-d5b0531169a1"
      },
      "outputs": [
        {
          "output_type": "execute_result",
          "data": {
            "text/plain": [
              "<Axes: title={'center': 'Complaint Categories Distribution'}, xlabel='complaint_category'>"
            ]
          },
          "metadata": {},
          "execution_count": 52
        },
        {
          "output_type": "display_data",
          "data": {
            "text/plain": [
              "<Figure size 640x480 with 1 Axes>"
            ],
            "image/png": "[encoded data removed]"
          },
          "metadata": {}
        }
      ],
      "source": [
        "#Step 3: Visualize the Distribution of Complaint Categories\n",
        "\n",
        "import matplotlib.pyplot as plt\n",
        "# Define the categorization logic\n",
        "def categorize_complaint(post_content):\n",
        "    if 'driver' in post_content.lower():\n",
        "        return 'Driver Issue'\n",
        "    elif 'cancellation' in post_content.lower():\n",
        "        return 'Booking Cancellation'\n",
        "    elif 'customer service' in post_content.lower():\n",
        "        return 'Customer Service Issue'\n",
        "    else:\n",
        "        return 'Other'\n",
        "\n",
        "# Apply categorization to the DataFrame\n",
        "df['complaint_category'] = df['content'].apply(categorize_complaint)\n",
        "\n",
        "# Visualize the distribution of complaint categories\n",
        "complaint_counts = df['complaint_category'].value_counts()\n",
        "complaint_counts.plot(kind='bar', title='Complaint Categories Distribution')\n"
      ]
    },
    {
      "cell_type": "markdown",
      "metadata": {
        "id": "zQZAFsAGJ4xG"
      },
      "source": [
        "# 5. Engagement Analysis"
      ]
    },
    {
      "cell_type": "markdown",
      "metadata": {
        "id": "7uwZYFWNLIua"
      },
      "source": [
        "**5a. Correlation between Followers and Engagement Metrics:**"
      ]
    },
    {
      "cell_type": "code",
      "execution_count": 53,
      "metadata": {
        "id": "PUjHXReJLNaq",
        "colab": {
          "base_uri": "https://localhost:8080/"
        },
        "outputId": "331f254d-40b9-481e-b85a-16751db3d9d6"
      },
      "outputs": [
        {
          "output_type": "stream",
          "name": "stdout",
          "text": [
            "           followers     likes    shares  comments\n",
            "followers   1.000000  0.097637  0.030175       NaN\n",
            "likes       0.097637  1.000000  0.530971       NaN\n",
            "shares      0.030175  0.530971  1.000000       NaN\n",
            "comments         NaN       NaN       NaN       NaN\n"
          ]
        }
      ],
      "source": [
        "# Make sure followers and engagement metrics are numeric\n",
        "df['followers'] = pd.to_numeric(df['followers'], errors='coerce')\n",
        "df['likes'] = pd.to_numeric(df['likes'], errors='coerce')\n",
        "df['shares'] = pd.to_numeric(df['shares'], errors='coerce')\n",
        "df['comments'] = pd.to_numeric(df['comments'], errors='coerce')\n",
        "\n",
        "# Calculate correlation matrix between followers and engagement metrics\n",
        "correlation_matrix = df[['followers', 'likes', 'shares', 'comments']].corr()\n",
        "\n",
        "# Display the correlation matrix\n",
        "print(correlation_matrix)\n"
      ]
    },
    {
      "cell_type": "markdown",
      "metadata": {
        "id": "p_ItpwCoLU32"
      },
      "source": [
        "**5b. Patterns in Engagement Based on the Source of Posts:**"
      ]
    },
    {
      "cell_type": "code",
      "execution_count": 54,
      "metadata": {
        "id": "KKVu27rNLT2U",
        "colab": {
          "base_uri": "https://localhost:8080/"
        },
        "outputId": "a9a10b43-422e-46b2-b978-7b8342e17302"
      },
      "outputs": [
        {
          "output_type": "stream",
          "name": "stdout",
          "text": [
            "              likes     shares  comments\n",
            "source                                  \n",
            "TWITTER  115.107759  13.781609       NaN\n"
          ]
        }
      ],
      "source": [
        "# Assuming 'source' is the column representing the platform (e.g., Twitter, Instagram)\n",
        "engagement_by_source = df.groupby('source')[['likes', 'shares', 'comments']].mean()\n",
        "\n",
        "# Display the average engagement metrics by source\n",
        "print(engagement_by_source)\n"
      ]
    },
    {
      "cell_type": "markdown",
      "metadata": {
        "id": "ZCkPxe6TLjC0"
      },
      "source": [
        "#Visualization Code:"
      ]
    },
    {
      "cell_type": "code",
      "execution_count": 55,
      "metadata": {
        "id": "19R65JOXLem-",
        "colab": {
          "base_uri": "https://localhost:8080/",
          "height": 611
        },
        "outputId": "cd7ffe40-5c67-400e-9a03-173d0a39c405"
      },
      "outputs": [
        {
          "output_type": "display_data",
          "data": {
            "text/plain": [
              "<Figure size 1000x600 with 1 Axes>"
            ],
            "image/png": "[encoded data removed]"
          },
          "metadata": {}
        }
      ],
      "source": [
        "import matplotlib.pyplot as plt\n",
        "\n",
        "import matplotlib.pyplot as plt\n",
        "\n",
        "# Plot the average engagement by source\n",
        "engagement_by_source.plot(kind='bar', figsize=(10, 6), title='Average Engagement by Source')\n",
        "plt.xlabel('Platform')\n",
        "plt.ylabel('Average Engagement')\n",
        "plt.show()\n",
        "\n"
      ]
    },
    {
      "cell_type": "markdown",
      "metadata": {
        "id": "ISNdPuGjMqXk"
      },
      "source": [
        "# 6. Recommendations"
      ]
    },
    {
      "cell_type": "code",
      "execution_count": 56,
      "metadata": {
        "id": "0MaQpvEmMs66",
        "colab": {
          "base_uri": "https://localhost:8080/",
          "height": 598
        },
        "outputId": "68595f61-9d3b-42e3-dbbc-038987ca54a7"
      },
      "outputs": [
        {
          "output_type": "display_data",
          "data": {
            "text/plain": [
              "<Figure size 800x500 with 1 Axes>"
            ],
            "image/png": "[encoded data removed]"
          },
          "metadata": {}
        }
      ],
      "source": [
        "#1. Visualizing Customer Complaints for Service Improvement:\n",
        "\n",
        "# Assuming 'complaint_category' column holds complaint categories (e.g., 'Driver Issue', 'Booking Problem', 'Customer Service')\n",
        "complaint_counts = df['complaint_category'].value_counts()\n",
        "\n",
        "# Plot the distribution of complaint categories\n",
        "complaint_counts.plot(kind='bar', figsize=(8, 5), title='Distribution of Customer Complaints')\n",
        "plt.xlabel('Complaint Categories')\n",
        "plt.ylabel('Number of Complaints')\n",
        "plt.xticks(rotation=45)\n",
        "plt.show()\n"
      ]
    },
    {
      "cell_type": "markdown",
      "metadata": {
        "id": "Z-eF-NhFMqFS"
      },
      "source": []
    },
    {
      "cell_type": "code",
      "execution_count": 57,
      "metadata": {
        "id": "AGthpWBpNBfj",
        "colab": {
          "base_uri": "https://localhost:8080/",
          "height": 603
        },
        "outputId": "2a7b152e-2fa1-428c-ad5d-5e7baeff1285"
      },
      "outputs": [
        {
          "output_type": "display_data",
          "data": {
            "text/plain": [
              "<Figure size 1000x600 with 1 Axes>"
            ],
            "image/png": "[encoded data removed]"
          },
          "metadata": {}
        }
      ],
      "source": [
        "#2. Optimizing Social Media Strategy Based on Engagement Trends:\n",
        "\n",
        "# Group posts by source and calculate average engagement metrics (likes, shares, comments)\n",
        "platform_engagement = df.groupby('source')[['likes', 'shares', 'comments']].mean()\n",
        "\n",
        "# Plot the engagement metrics across different platforms\n",
        "platform_engagement.plot(kind='bar', figsize=(10, 6), title='Average Engagement by Social Media Platform')\n",
        "plt.xlabel('Social Media Platform')\n",
        "plt.ylabel('Average Engagement')\n",
        "plt.xticks(rotation=45)\n",
        "plt.show()\n"
      ]
    },
    {
      "cell_type": "code",
      "execution_count": 58,
      "metadata": {
        "id": "PA30tEBGNIr4",
        "colab": {
          "base_uri": "https://localhost:8080/",
          "height": 675
        },
        "outputId": "c87a6016-8095-4ca9-8bdd-169084186d40"
      },
      "outputs": [
        {
          "output_type": "display_data",
          "data": {
            "text/plain": [
              "<Figure size 800x800 with 1 Axes>"
            ],
            "image/png": "[encoded data removed]"
          },
          "metadata": {}
        }
      ],
      "source": [
        "#3. Leveraging Positive Sentiment for Brand Advocacy:\n",
        "# Assuming 'sentiment_category' column holds the sentiment (Positive, Neutral, Negative)\n",
        "sentiment_counts = df['sentiment_category'].value_counts()\n",
        "\n",
        "# Plot the distribution of sentiment categories\n",
        "sentiment_counts.plot(kind='pie', autopct='%1.1f%%', figsize=(8, 8), title='Sentiment Distribution of Posts')\n",
        "plt.ylabel('')\n",
        "plt.show()\n"
      ]
    },
    {
      "cell_type": "markdown",
      "metadata": {
        "id": "U-l7JYsMNSpT"
      },
      "source": [
        "# Summary of Visualizations:\n",
        "\n",
        "**1.Complaint Distribution Bar Chart: Helps focus on areas that need customer service improvements.\n",
        "\n",
        "2.Social Media Engagement Bar Chart: Shows where to focus the social media strategy based on engagement.\n",
        "\n",
        "3.Sentiment Distribution Pie Chart: Highlights the amount of positive sentiment, which can be leveraged for brand advocacy.\n",
        "\n",
        "These visualizations provide clear, data-driven insights that can support the actionable recommendations for Ola Cabs**"
      ]
    },
    {
      "cell_type": "markdown",
      "source": [],
      "metadata": {
        "id": "YblGrZsNBLlO"
      }
    }
  ],
  "metadata": {
    "colab": {
      "provenance": [],
      "authorship_tag": "ABX9TyO4W9OxzrP6vARkCaERnPmB",
      "include_colab_link": true
    },
    "kernelspec": {
      "display_name": "Python 3",
      "name": "python3"
    },
    "language_info": {
      "name": "python"
    }
  },
  "nbformat": 4,
  "nbformat_minor": 0
}